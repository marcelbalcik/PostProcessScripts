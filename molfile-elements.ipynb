{
 "cells": [
  {
   "cell_type": "code",
   "execution_count": 4,
   "id": "78921afd-00ef-4160-99d1-93980e12fc78",
   "metadata": {},
   "outputs": [],
   "source": [
    "def modify_file(input_file, output_file):\n",
    "    with open(input_file, 'r') as infile, open(output_file, 'w') as outfile:\n",
    "        inside_atom_section = False\n",
    "\n",
    "        for line in infile:\n",
    "            if line.strip() == '@<TRIPOS>ATOM':\n",
    "                inside_atom_section = True\n",
    "            elif line.strip() == '@<TRIPOS>BOND':\n",
    "                inside_atom_section = False\n",
    "\n",
    "            if inside_atom_section and not line.startswith('@<TRIPOS>ATOM'):\n",
    "                columns = line.split()\n",
    "                if len(columns) >= 7:\n",
    "                    columns[5] = columns[1]\n",
    "                    line = ' '.join(columns) + '\\n'\n",
    "\n",
    "            outfile.write(line)\n",
    "\n",
    "# Example usage\n",
    "input_file = 'VP-30pwater-natxl-pretyped.mol2'\n",
    "output_file = 'VP-30pwater-natxl-pretyped-elements.mol2'\n",
    "modify_file(input_file, output_file)\n",
    "\n"
   ]
  },
  {
   "cell_type": "code",
   "execution_count": null,
   "id": "0fb1f6d2-83a5-4b9b-bab5-ee64c9557db9",
   "metadata": {},
   "outputs": [],
   "source": []
  }
 ],
 "metadata": {
  "kernelspec": {
   "display_name": "Python 3 (ipykernel)",
   "language": "python",
   "name": "python3"
  },
  "language_info": {
   "codemirror_mode": {
    "name": "ipython",
    "version": 3
   },
   "file_extension": ".py",
   "mimetype": "text/x-python",
   "name": "python",
   "nbconvert_exporter": "python",
   "pygments_lexer": "ipython3",
   "version": "3.11.7"
  }
 },
 "nbformat": 4,
 "nbformat_minor": 5
}
