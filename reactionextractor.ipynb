{
 "cells": [
  {
   "cell_type": "code",
   "execution_count": 64,
   "id": "13f2fa47-024e-4e6b-b7b5-d86600c939e2",
   "metadata": {},
   "outputs": [
    {
     "name": "stdout",
     "output_type": "stream",
     "text": [
      "362\n",
      "32\n",
      "362\n",
      "32\n",
      "362\n",
      "32\n",
      "<class 'zip'>\n"
     ]
    }
   ],
   "source": [
    "import csv\n",
    "\n",
    "\n",
    "# Define the string to search for\n",
    "toreactminitial = 0\n",
    "toreactamainitial = 0\n",
    "toreactm = []\n",
    "toreactama = []\n",
    "numberofsites = 0\n",
    "def FinderFirst(string):\n",
    "    searchstring=\"atoms in group \" + string\n",
    "    with open(\"log70pwater.lammps\", \"rt\") as file:\n",
    "        for line_number, line in enumerate(file, start=1):\n",
    "        # Check if the string is in the current line\n",
    "            if searchstring in line:\n",
    "                #print(line)\n",
    "                numberofsites = int(line.split()[0])\n",
    "                return numberofsites #if line.strip() else None\n",
    "\n",
    "\n",
    "\n",
    "\n",
    "setinitialvalues()\n",
    "\n",
    "def fill(string):\n",
    "    numberofsites = []\n",
    "    searchstring=\"atoms in group \" + string\n",
    "    with open(\"log70pwater.lammps\", \"rt\") as file:\n",
    "        for line_number, line in enumerate(file, start=1):\n",
    "        # Check if the string is in the current line\n",
    "            if searchstring in line:\n",
    "                #print(line)\n",
    "                numberofsites.append(int(line.split()[0]))\n",
    "        return numberofsites #if line.strip() else None    \n",
    "\n",
    "\n",
    "toreactminitial = FinderFirst('toreactm')\n",
    "toreactamainitial = FinderFirst('toreactama')\n",
    "print(toreactminitial)\n",
    "print(toreactamainitial)\n",
    "setinitialvalues()\n",
    "toreactm = fill(\"toreactm\")\n",
    "toreactama = fill(\"toreactama\")\n",
    "\n",
    "toreactmremaining = [toreactminitial - number for number in toreactm]\n",
    "toreactamaremaining = [toreactamainitial - number for number in toreactama]\n",
    "\n",
    "#print(toreactm)\n",
    "rows = zip(toreactmremaining,toreactamaremaining)\n",
    "print(zip)\n",
    "with open('log70pwater.csv', 'w', newline='') as file:\n",
    "    writer = csv.writer(file)\n",
    "    writer.writerow(['Column1', 'Column2', 'Column3'])  # Header row\n",
    "    writer.writerows(rows)"
   ]
  },
  {
   "cell_type": "code",
   "execution_count": null,
   "id": "0645abe1-d455-49f7-bbc0-33acee4bb459",
   "metadata": {},
   "outputs": [],
   "source": []
  },
  {
   "cell_type": "code",
   "execution_count": null,
   "id": "20911697-c4ad-4238-a05c-9d5eb0a7d73c",
   "metadata": {},
   "outputs": [],
   "source": []
  }
 ],
 "metadata": {
  "kernelspec": {
   "display_name": "Python 3 (ipykernel)",
   "language": "python",
   "name": "python3"
  },
  "language_info": {
   "codemirror_mode": {
    "name": "ipython",
    "version": 3
   },
   "file_extension": ".py",
   "mimetype": "text/x-python",
   "name": "python",
   "nbconvert_exporter": "python",
   "pygments_lexer": "ipython3",
   "version": "3.11.7"
  }
 },
 "nbformat": 4,
 "nbformat_minor": 5
}
